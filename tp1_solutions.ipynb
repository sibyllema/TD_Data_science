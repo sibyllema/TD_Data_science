{
  "cells": [
    {
      "cell_type": "markdown",
      "metadata": {
        "id": "mruZyNRBdon5"
      },
      "source": [
        "# TP n° 1 - Entropic Coding and Compression"
      ]
    },
    {
      "cell_type": "markdown",
      "metadata": {
        "id": "J-qHH17hdon6"
      },
      "source": [
        "Adapted from Gabriel Peyré's http://www.numerical-tours.com/"
      ]
    },
    {
      "cell_type": "markdown",
      "metadata": {
        "id": "IPyVvLPwdon6"
      },
      "source": [
        "This numerical tour studies source coding using entropic coders."
      ]
    },
    {
      "cell_type": "markdown",
      "metadata": {
        "id": "qFZfFPBSdon7"
      },
      "source": [
        "Entropic coding converts a vector $x\\in\\mathbb{N}^n$ of integers into a binary stream $y\\in\\{0, 1\\}^N$. Entropic coding exploits the redundancies in the statistical distribution of the entries of $x$ to reduce as much as possible the number of bits $N$ of $y$. The lower bound for $N/n$ is the Shannon bound :"
      ]
    },
    {
      "cell_type": "markdown",
      "metadata": {
        "id": "WflN9SBydon7"
      },
      "source": [
        "$$H(x)=-\\sum_i p(i)\\log_2 p(i)$$\n",
        "where $p(i)$ is the probability of apparition of symbol $i$ in $x$."
      ]
    },
    {
      "cell_type": "markdown",
      "metadata": {
        "id": "m7tAMB7Zdon7"
      },
      "source": [
        "## Imports"
      ]
    },
    {
      "cell_type": "code",
      "execution_count": 1,
      "metadata": {
        "id": "FPFhvQcMdon7"
      },
      "outputs": [],
      "source": [
        "import os\n",
        "os.system(\"pip install ete3 pyqt5\")\n",
        "os.environ['QT_QPA_PLATFORM'] = 'offscreen'"
      ]
    },
    {
      "cell_type": "code",
      "execution_count": 2,
      "metadata": {
        "id": "DjZx_CvBdon8"
      },
      "outputs": [],
      "source": [
        "import numpy as np\n",
        "import ete3\n",
        "import matplotlib.pyplot as plt"
      ]
    },
    {
      "cell_type": "markdown",
      "metadata": {
        "id": "wMOU7_3wdon8"
      },
      "source": [
        "## Shannon Entropy"
      ]
    },
    {
      "cell_type": "markdown",
      "metadata": {
        "id": "Fn8Nrq3Wdon8"
      },
      "source": [
        "Fist we generate a simple binary signal $x$ such that $0$ has a probability $0.1$ to appear at each position of $x$."
      ]
    },
    {
      "cell_type": "code",
      "execution_count": 3,
      "metadata": {
        "id": "P0ZY8Gwudon8"
      },
      "outputs": [],
      "source": [
        "# Random binary signal `x` with length 512\n",
        "x = np.random.choice([0, 1], size=512, p=[.1, .9])"
      ]
    },
    {
      "cell_type": "markdown",
      "metadata": {
        "id": "PJ83Iut-don9"
      },
      "source": [
        "One can check the probabilities by computing the empirical histogram $h$, which should sum to 1."
      ]
    },
    {
      "cell_type": "code",
      "execution_count": 4,
      "metadata": {
        "colab": {
          "base_uri": "https://localhost:8080/"
        },
        "id": "rczzQU7udon9",
        "outputId": "a7569ae6-947c-4bff-9179-0ab20c228f22"
      },
      "outputs": [
        {
          "output_type": "stream",
          "name": "stdout",
          "text": [
            "[0.12695312 0.87304688]\n",
            "Empirical probability of `0`: 0.13\n"
          ]
        }
      ],
      "source": [
        "# Compute the empirical histogram.\n",
        "h = [np.sum(x == 0), np.sum(x == 1)]\n",
        "h = h/np.sum(h)\n",
        "print(h)\n",
        "\n",
        "# Print the empirical probability of `0` at any position.\n",
        "print(\"Empirical probability of `0`: %.2f\" %h[0])"
      ]
    },
    {
      "cell_type": "markdown",
      "metadata": {
        "id": "3rDgCMpKdon-"
      },
      "source": [
        "<div class=\"alert alert-block alert-info\">\n",
        "    <b>Question 1.</b> Compute the entropy of the histogram $h$. You may want to use <tt>np.log2</tt>.\n",
        "</div>"
      ]
    },
    {
      "cell_type": "code",
      "execution_count": 5,
      "metadata": {
        "scrolled": true,
        "colab": {
          "base_uri": "https://localhost:8080/"
        },
        "id": "fsOrbJZjdon-",
        "outputId": "cdf0e35c-de27-4ce9-a669-e881e2667315"
      },
      "outputs": [
        {
          "output_type": "stream",
          "name": "stdout",
          "text": [
            "Entropy = 0.55\n"
          ]
        }
      ],
      "source": [
        "# Compute the entropy of histogram h.\n",
        "entropy = -np.sum(np.log2(h)*h)\n",
        "\n",
        "# Print the entropy of histogram h.\n",
        "print(\"Entropy = %.2f\" %entropy)"
      ]
    },
    {
      "cell_type": "markdown",
      "metadata": {
        "id": "pxFKLLoydon-"
      },
      "source": [
        "Huffman Coding\n",
        "--------------\n",
        "A Huffman code $C$ associates to each symbol $i$ in $\\{0,\\dots,K- 1\\}$ a binary code $C_i$\n",
        "whose length is as close as possible to the optimal bound\n",
        "$-\\log_2 p(i)$, where $p(i)$ is the probability of apparition of the\n",
        "symbol $i$."
      ]
    },
    {
      "cell_type": "markdown",
      "metadata": {
        "id": "EUZuUf83don-"
      },
      "source": [
        "We select a set of proabilities for symbols $\\{0, \\dots, K-1\\}$ for $K=5$."
      ]
    },
    {
      "cell_type": "code",
      "execution_count": 6,
      "metadata": {
        "id": "sTTz5g0Rdon-"
      },
      "outputs": [],
      "source": [
        "# Defining an histogram.\n",
        "symbols = [\"a\", \"b\", \"c\", \"d\", \"e\"]\n",
        "h = [.1, .15, .4, .15, .2]\n",
        "\n",
        "# Checking that the sum is 1.\n",
        "assert(np.sum(h) == 1)"
      ]
    },
    {
      "cell_type": "markdown",
      "metadata": {
        "id": "kJybuqIWdon-"
      },
      "source": [
        "The tree $T$ contains the codes and is generated by an iterative algorithm.\n",
        "The initial \"tree\" is a collection of empty trees, pointing to the symbols numbers."
      ]
    },
    {
      "cell_type": "markdown",
      "metadata": {
        "id": "QTkFMO4Kdon-"
      },
      "source": [
        "We build iteratively the Huffman tree\n",
        "by grouping together the two trees that have the smallest probabilities.\n",
        "The merged tree has a probability which is the sum of the two selected\n",
        "probabilities."
      ]
    },
    {
      "cell_type": "code",
      "execution_count": 7,
      "metadata": {
        "scrolled": true,
        "id": "jh7PbB5ndon-"
      },
      "outputs": [],
      "source": [
        "def make_tree(symbols, h):\n",
        "\n",
        "    # Let us start with a list of elementary subtrees, each containing one symbol only.\n",
        "    trees = [(h[i], symbols[i]) for i in range(len(h))]\n",
        "\n",
        "    # While we have at least 2 subtrees to merge.\n",
        "    while len(trees) > 1:\n",
        "\n",
        "        # Sort according to the first values of the tuples (the probabilities)\n",
        "        trees.sort()\n",
        "\n",
        "        # Merge the two least probable subtrees, and compute their combined probability.\n",
        "        merged_trees = (trees[0], trees[1])\n",
        "        p_merged_trees = trees[0][0] + trees[1][0]\n",
        "\n",
        "        # Add the merged subtree to the list of remaining subtrees.\n",
        "        trees = trees[2:] + [(p_merged_trees, merged_trees)]\n",
        "\n",
        "    # At the end, only one tree remains, the Huffman tree.\n",
        "    return trees[0]"
      ]
    },
    {
      "cell_type": "code",
      "execution_count": 8,
      "metadata": {
        "colab": {
          "base_uri": "https://localhost:8080/"
        },
        "id": "dD9ai_zTdon-",
        "outputId": "c1a7cdf7-2daa-4b66-b268-7a1f0c429310"
      },
      "outputs": [
        {
          "output_type": "stream",
          "name": "stdout",
          "text": [
            "(1.0, ((0.4, 'c'), (0.6, ((0.25, ((0.1, 'a'), (0.15, 'b'))), (0.35, ((0.15, 'd'), (0.2, 'e')))))))\n"
          ]
        }
      ],
      "source": [
        "tree = make_tree(symbols, h)\n",
        "print(tree)"
      ]
    },
    {
      "cell_type": "markdown",
      "metadata": {
        "id": "XRBvPMt4don_"
      },
      "source": [
        "This is a bit hard to read, let us trim it by removing the probabilities."
      ]
    },
    {
      "cell_type": "code",
      "execution_count": 9,
      "metadata": {
        "id": "WwDNxI7Qdon_"
      },
      "outputs": [],
      "source": [
        "# Remove the probabilities from the tree.\n",
        "def trim(tree):\n",
        "\n",
        "    # Separate the probability and what it refers to.\n",
        "    probability, element = tree\n",
        "\n",
        "    # If it is a leaf, i.e. a symbol, then return it.\n",
        "    if type(element) != tuple:\n",
        "        return element\n",
        "\n",
        "    # If it is a couple of subtrees, trim each one.\n",
        "    else:\n",
        "        left, right = element\n",
        "        return (trim(left), trim(right))"
      ]
    },
    {
      "cell_type": "code",
      "execution_count": 10,
      "metadata": {
        "colab": {
          "base_uri": "https://localhost:8080/"
        },
        "id": "MGNJwhAzdon_",
        "outputId": "ad0a9d69-f18e-410c-e70f-47b360feaff8"
      },
      "outputs": [
        {
          "output_type": "stream",
          "name": "stdout",
          "text": [
            "('c', (('a', 'b'), ('d', 'e')))\n"
          ]
        }
      ],
      "source": [
        "huffman_tree = trim(tree)\n",
        "print(huffman_tree)"
      ]
    },
    {
      "cell_type": "markdown",
      "metadata": {
        "id": "iskeMm7Sdon_"
      },
      "source": [
        "Your tree should look like this: `('c', (('a', 'b'), ('d', 'e')))`"
      ]
    },
    {
      "cell_type": "markdown",
      "metadata": {
        "id": "NcxK7d_Cdon_"
      },
      "source": [
        "Visualize it using `ete3`."
      ]
    },
    {
      "cell_type": "code",
      "execution_count": 11,
      "metadata": {
        "colab": {
          "base_uri": "https://localhost:8080/",
          "height": 149
        },
        "id": "FudO_QxXdon_",
        "outputId": "98613a18-3bf5-48f9-ebb8-beb1ae825d86"
      },
      "outputs": [
        {
          "output_type": "execute_result",
          "data": {
            "image/png": "[encoded data removed]",
            "text/plain": [
              "<IPython.core.display.Image object>"
            ]
          },
          "metadata": {},
          "execution_count": 11
        }
      ],
      "source": [
        "# ete3 wants the tree to look like \"('c', (('a', 'b'), ('d', 'e')));\"\n",
        "# Notice the \";\"\n",
        "ete3.Tree(str(huffman_tree) + \";\").render(\"%%inline\")"
      ]
    },
    {
      "cell_type": "markdown",
      "metadata": {
        "id": "HPHdHAqIdon_"
      },
      "source": [
        "Once the tree $T$ is computed, one can compute the code $C_{i}$\n",
        "associated to each symbol $i$. This requires to perform a deep first\n",
        "search in the tree and stop at each node."
      ]
    },
    {
      "cell_type": "code",
      "execution_count": 12,
      "metadata": {
        "id": "HCekiNEGdon_"
      },
      "outputs": [],
      "source": [
        "# Explore a huffman tree and fill the dictionary `codes`\n",
        "def codes_from_huffman(tree, codes, c):\n",
        "\n",
        "     # If the tree is just a leaf, then note its code.\n",
        "    if type(tree) != tuple:\n",
        "        codes[tree] = c\n",
        "\n",
        "    # Otherwise, continue exploring the subtrees.\n",
        "    else:\n",
        "        left, right = tree  # Split into left and right subtree.\n",
        "\n",
        "        # If we go left, add a '0' to the current code.\n",
        "        codes_from_huffman(left, codes, c + [0])\n",
        "\n",
        "        # If we go right, add a '1' to the current code.\n",
        "        codes_from_huffman(right, codes, c + [1])"
      ]
    },
    {
      "cell_type": "code",
      "execution_count": 13,
      "metadata": {
        "id": "X8dY150idon_"
      },
      "outputs": [],
      "source": [
        "# Initialize the coding dictionary.\n",
        "codes = {}"
      ]
    },
    {
      "cell_type": "code",
      "execution_count": 14,
      "metadata": {
        "id": "Zk8TrEtZdon_"
      },
      "outputs": [],
      "source": [
        "# Explore our huffman tree recursively.\n",
        "codes_from_huffman(huffman_tree, codes, [])"
      ]
    },
    {
      "cell_type": "markdown",
      "metadata": {
        "id": "H55dEbHQdooA"
      },
      "source": [
        "Display the code."
      ]
    },
    {
      "cell_type": "code",
      "execution_count": 15,
      "metadata": {
        "colab": {
          "base_uri": "https://localhost:8080/"
        },
        "id": "CT_dIt1vdooA",
        "outputId": "f35012e0-77d6-49b8-da9e-97919c7d63f6"
      },
      "outputs": [
        {
          "output_type": "stream",
          "name": "stdout",
          "text": [
            "Code of token c: [0]\n",
            "Code of token a: [1, 0, 0]\n",
            "Code of token b: [1, 0, 1]\n",
            "Code of token d: [1, 1, 0]\n",
            "Code of token e: [1, 1, 1]\n"
          ]
        }
      ],
      "source": [
        "for token in codes:\n",
        "    print(\"Code of token \" + token + \": \" + str(codes[token]))"
      ]
    },
    {
      "cell_type": "markdown",
      "metadata": {
        "id": "jdxs4yI2dooA"
      },
      "source": [
        "We draw a vector $x$ according to the distribution $h$."
      ]
    },
    {
      "cell_type": "code",
      "execution_count": 16,
      "metadata": {
        "colab": {
          "base_uri": "https://localhost:8080/"
        },
        "id": "yvtjTwWgdooA",
        "outputId": "4556b522-6b07-4ff5-8b8e-2dcc316bbe2a"
      },
      "outputs": [
        {
          "output_type": "stream",
          "name": "stdout",
          "text": [
            "['c' 'a' 'c' 'c' 'e' 'e' 'c' 'c' 'b' 'e' 'c' 'c' 'a' 'c' 'c' 'b' 'a' 'b'\n",
            " 'c' 'c' 'd' 'd' 'b' 'c' 'b' 'c' 'c' 'c' 'e' 'b'] ...\n"
          ]
        }
      ],
      "source": [
        "n = 50_000 # `n` is the size of the signal.\n",
        "\n",
        "# Pick `n` symbols according to distribution `h`.\n",
        "x = np.random.choice(symbols, size=n, p=h)\n",
        "\n",
        "# Display the beginning of the array `x`.\n",
        "print(x[:30], \"...\")"
      ]
    },
    {
      "cell_type": "markdown",
      "metadata": {
        "id": "mwRKJh_ndooA"
      },
      "source": [
        "<div class=\"alert alert-block alert-info\">\n",
        "    <b>Question 2.</b> Implement the coding of the vector $x$ to obtain a binary vector $y$, which corresponds to replacing each sybmol $x(i)$ by the code $C_{x(i)}$. Represent $y$ as an array of 0 and 1, which should look like <tt>[1 1 1 0 1 1 0 0 0 0 0 1 1 0 0 1 1 0 0 0 1 1 0 0 1 1 1 1 0 1] ...\n",
        "<tt>.\n",
        "</div>"
      ]
    },
    {
      "cell_type": "code",
      "execution_count": 17,
      "metadata": {
        "colab": {
          "base_uri": "https://localhost:8080/"
        },
        "id": "K4nrEIgzdooA",
        "outputId": "71064d4e-5d3a-4a4a-cec2-5684d26310d9"
      },
      "outputs": [
        {
          "output_type": "stream",
          "name": "stdout",
          "text": [
            "[0, 1, 0, 0, 0, 0, 1, 1, 1, 1, 1, 1, 0, 0, 1, 0, 1, 1, 1, 1, 0, 0, 1, 0, 0, 0, 0, 1, 0, 1] ...\n"
          ]
        }
      ],
      "source": [
        "def encode(x, codes):\n",
        "    y = []\n",
        "    for token in x:\n",
        "        y = y + codes[token]\n",
        "    return y\n",
        "\n",
        "y = encode(x, codes)\n",
        "print(y[:30], \"...\")"
      ]
    },
    {
      "cell_type": "markdown",
      "metadata": {
        "id": "tVauPEBPdooA"
      },
      "source": [
        "<div class=\"alert alert-block alert-info\">\n",
        "    <b>Question 3.</b> Compare the length of the code with the entropy bound.\n",
        "</div>"
      ]
    },
    {
      "cell_type": "code",
      "execution_count": 18,
      "metadata": {
        "colab": {
          "base_uri": "https://localhost:8080/"
        },
        "id": "E96SU-GKdooM",
        "outputId": "d7c6cf5f-c477-4ce7-95b1-5c9353fe810c"
      },
      "outputs": [
        {
          "output_type": "stream",
          "name": "stdout",
          "text": [
            "Entropy bound = 2.1460219259436273\n",
            "Huffman code  = 2.20124\n"
          ]
        }
      ],
      "source": [
        "h_emp = [np.sum(x == symbols[i]) for i in range(5)]\n",
        "h_emp = h_emp/np.sum(h_emp)\n",
        "\n",
        "entropy_bound = -np.sum(h_emp*np.log2(h_emp))\n",
        "\n",
        "print(\"Entropy bound =\", entropy_bound)\n",
        "print(\"Huffman code  =\", len(y)/len(x))"
      ]
    },
    {
      "cell_type": "markdown",
      "metadata": {
        "id": "p19JGFYJdooM"
      },
      "source": [
        "Decoding is more complicated, since it requires to iteratively parse the tree $T$."
      ]
    },
    {
      "cell_type": "code",
      "execution_count": 19,
      "metadata": {
        "id": "UAX7C3xEdooM"
      },
      "outputs": [],
      "source": [
        "def decode(y, tree):\n",
        "    decoded = []\n",
        "    subtree = tree\n",
        "\n",
        "    for bit in y:\n",
        "        left, right = subtree\n",
        "\n",
        "        if bit == 0:\n",
        "            subtree = left\n",
        "        else:\n",
        "            subtree = right\n",
        "\n",
        "        if type(subtree) != tuple:\n",
        "            decoded.append(subtree)\n",
        "            subtree = tree\n",
        "\n",
        "    return np.array(decoded)"
      ]
    },
    {
      "cell_type": "markdown",
      "metadata": {
        "id": "XJ9zsfaxdooM"
      },
      "source": [
        "Perform decoding and test if it is identical to the initial signal."
      ]
    },
    {
      "cell_type": "code",
      "execution_count": 20,
      "metadata": {
        "id": "ebQmA_XudooM"
      },
      "outputs": [],
      "source": [
        "decoded = decode(y, huffman_tree)\n",
        "assert(np.array_equal(decoded, x))"
      ]
    },
    {
      "cell_type": "markdown",
      "metadata": {
        "id": "OQmwIDAvdooM"
      },
      "source": [
        "Huffman Block Coding\n",
        "--------------------\n",
        "A Huffman coder is inefficient because it can distribute only an integer\n",
        "number of bit per symbol. In particular, distribution where one of the\n",
        "symbol has a large probability are not well coded using a Huffman code.\n",
        "This can be aleviated by replacing the set of $K$ symbols by $K^q$\n",
        "symbols obtained by packing the symbols by blocks of $q$ (here we use $K=2$ for a binary alphabet). This breaks\n",
        "symbols with large probability into many symbols with smaller probability,\n",
        "thus approaching the Shannon entropy bound."
      ]
    },
    {
      "cell_type": "code",
      "execution_count": 21,
      "metadata": {
        "id": "JJc-StHbdooM"
      },
      "outputs": [],
      "source": [
        "# Define the probability of drawing a 0.\n",
        "t = 0.12"
      ]
    },
    {
      "cell_type": "code",
      "execution_count": 22,
      "metadata": {
        "id": "mjlYuupddooM"
      },
      "outputs": [],
      "source": [
        "# Define the histogram (probability of 0, probability of 1).\n",
        "h = [t, 1 - t]"
      ]
    },
    {
      "cell_type": "markdown",
      "metadata": {
        "id": "Cp3d5sSSdooN"
      },
      "source": [
        "Generate signal."
      ]
    },
    {
      "cell_type": "code",
      "execution_count": 23,
      "metadata": {
        "id": "k_BeqgoJdooN"
      },
      "outputs": [],
      "source": [
        "# Define the number of bits to generate.\n",
        "n = 2**13\n",
        "\n",
        "# Generate a random sequence of bits with distribution h.\n",
        "x = np.random.choice([0, 1], size=n, p=h)"
      ]
    },
    {
      "cell_type": "markdown",
      "metadata": {
        "id": "q7qZrP5NdooN"
      },
      "source": [
        "For block of length $q=3$, create a new vector by coding each block\n",
        "with an integer in $\\{0,...,K^q - 1\\}$. The new length of the vector is\n",
        "$n_1/q$ where $n_1=\\lceil n/q\\rceil q$."
      ]
    },
    {
      "cell_type": "code",
      "execution_count": 24,
      "metadata": {
        "id": "6wU175eOdooN"
      },
      "outputs": [],
      "source": [
        "# Define the size of one block.\n",
        "q = 3"
      ]
    },
    {
      "cell_type": "code",
      "execution_count": 25,
      "metadata": {
        "id": "oULbrXk7dooN"
      },
      "outputs": [],
      "source": [
        "def block_transform_signal(x, K, q):\n",
        "\n",
        "    # Define the new size of the signal, which should be a multiple of the block size.\n",
        "    # If n is a multiple of q, then just keep n.\n",
        "    if len(x) % q == 0:\n",
        "        n1 = len(x)\n",
        "\n",
        "    # Else, we'll need to add some more bits.\n",
        "    else:\n",
        "        n1 = (len(x)//q + 1)*q\n",
        "\n",
        "    # Pad the signal with extra ones at the end.\n",
        "    x1 = np.ones(n1, dtype=int)\n",
        "    x1[:len(x)] = x.copy()\n",
        "\n",
        "    # Create a new signal, transforming blocks into symbols of a larger alphabet.\n",
        "    x2 = []\n",
        "    for i in range(0, n1, q):\n",
        "        mult = K**np.arange(q)\n",
        "        x2.append(np.sum(x1[i:i+q]*mult))\n",
        "    return x2"
      ]
    },
    {
      "cell_type": "code",
      "execution_count": 26,
      "metadata": {
        "colab": {
          "base_uri": "https://localhost:8080/"
        },
        "id": "9qtrGVcudooN",
        "outputId": "c7c21a2a-d488-4255-84ab-d67894ef872a"
      },
      "outputs": [
        {
          "output_type": "stream",
          "name": "stdout",
          "text": [
            "[1 1 1 1 1 1 1 0 1 1 1 1 1 1 1 1 1 1 1 1 1 1 1 1 1 1 1 1 1 1]\n",
            "[7, 7, 5, 7, 7, 7, 7, 7, 7, 7, 2, 7, 7, 7, 7, 3, 7, 7, 7, 3, 7, 6, 7, 3, 7, 7, 6, 7, 7, 7] ...\n"
          ]
        }
      ],
      "source": [
        "print(x[:30])\n",
        "print(block_transform_signal(x, len(h), q)[:30], \"...\")"
      ]
    },
    {
      "cell_type": "markdown",
      "metadata": {
        "id": "QONF6ungdooN"
      },
      "source": [
        "We generate the probability table $H$ of $x_1$ that represents the probability\n",
        "of each new block symbols in $\\{0,...,K^q - 1\\}$."
      ]
    },
    {
      "cell_type": "code",
      "execution_count": 27,
      "metadata": {
        "id": "QvsRo6WbdooN"
      },
      "outputs": [],
      "source": [
        "def block_transform_histogram(h, q):\n",
        "\n",
        "    # Start from the histogram h.\n",
        "    # These are the probabilities for blocks of size 1.\n",
        "    H = h.copy()\n",
        "\n",
        "    # Add a symbol every time, reaching blocks of q in the end.\n",
        "    for _ in range(q - 1):\n",
        "\n",
        "        # Make a copy of the current state.\n",
        "        Hold = H.copy()\n",
        "\n",
        "        # Iterate over possible symbols (here, 0 or 1).\n",
        "        # Multiply the current state by the probability of that symbol,\n",
        "        # and concatenate that to the new state.\n",
        "        H = []\n",
        "        for j in range(len(h)):\n",
        "          for e in Hold:\n",
        "            H.append(e*h[j])\n",
        "    return H"
      ]
    },
    {
      "cell_type": "code",
      "execution_count": 28,
      "metadata": {
        "colab": {
          "base_uri": "https://localhost:8080/"
        },
        "id": "UgrRzW52dooN",
        "outputId": "882b9a5d-8b53-4610-d23e-427b1e0cfdb9"
      },
      "outputs": [
        {
          "output_type": "execute_result",
          "data": {
            "text/plain": [
              "[0.001728,\n",
              " 0.012672,\n",
              " 0.012672,\n",
              " 0.092928,\n",
              " 0.012672,\n",
              " 0.092928,\n",
              " 0.092928,\n",
              " 0.681472]"
            ]
          },
          "metadata": {},
          "execution_count": 28
        }
      ],
      "source": [
        "block_transform_histogram(h, q)"
      ]
    },
    {
      "cell_type": "markdown",
      "metadata": {
        "id": "3AxqF53ydooN"
      },
      "source": [
        "The operation in the outer loop is actually the Kronecker product, so we can simplify our code like this:"
      ]
    },
    {
      "cell_type": "code",
      "execution_count": 29,
      "metadata": {
        "id": "_Fmn6UYbdooN"
      },
      "outputs": [],
      "source": [
        "def block_transform_histogram(h, q):\n",
        "\n",
        "    # Start with blocks of 1 symbol.\n",
        "    H = h.copy()\n",
        "\n",
        "    # Add a new symbol until we have blocks of size q.\n",
        "    for _ in range(q - 1):\n",
        "\n",
        "        # The new histogram is the Kronecker product\n",
        "        # between the previous one and the initial h.\n",
        "        H = np.kron(H, h)\n",
        "\n",
        "    return H"
      ]
    },
    {
      "cell_type": "code",
      "execution_count": 30,
      "metadata": {
        "colab": {
          "base_uri": "https://localhost:8080/"
        },
        "id": "48ZEtXIwdooN",
        "outputId": "db3e2f40-d02a-440e-9b4b-0af052286aa6"
      },
      "outputs": [
        {
          "output_type": "execute_result",
          "data": {
            "text/plain": [
              "array([0.001728, 0.012672, 0.012672, 0.092928, 0.012672, 0.092928,\n",
              "       0.092928, 0.681472])"
            ]
          },
          "metadata": {},
          "execution_count": 30
        }
      ],
      "source": [
        "block_transform_histogram(h, q)"
      ]
    },
    {
      "cell_type": "markdown",
      "metadata": {
        "id": "cc1-w2ANdooO"
      },
      "source": [
        "<div class=\"alert alert-block alert-info\">\n",
        "    <b>Question 4.</b> For various values of block size $q$, Perform the Huffman coding and compute the length of the code. Compare with the entropy bound.\n",
        "</div>"
      ]
    },
    {
      "cell_type": "code",
      "source": [
        "h_emp = [np.sum(x == 0),  np.sum(x == 1)]\n",
        "h_emp = h_emp/np.sum(h_emp)\n",
        "\n",
        "entropy_bound = -np.sum(h_emp*np.log2(h_emp))\n",
        "lengths = []\n",
        "\n",
        "for q in range(1, 12):\n",
        "\n",
        "    x_block = block_transform_signal(x, len(h), q)\n",
        "    h_block = block_transform_histogram(h_emp, q)\n",
        "\n",
        "    symbols = [i for i in range(len(h)**q)]\n",
        "    codes = {}\n",
        "\n",
        "    huffman_tree = trim(make_tree(symbols, h_block))\n",
        "    codes_from_huffman(huffman_tree, codes, [])\n",
        "\n",
        "    y = encode(x_block, codes)\n",
        "\n",
        "    lengths.append(len(y)/(q*len(x_block)))"
      ],
      "metadata": {
        "id": "JD4CwlDhatb5"
      },
      "execution_count": 31,
      "outputs": []
    },
    {
      "cell_type": "code",
      "execution_count": 32,
      "metadata": {
        "colab": {
          "base_uri": "https://localhost:8080/",
          "height": 472
        },
        "id": "-5egfZwIdooO",
        "outputId": "36c509e5-113c-4206-d96f-940daebae41e"
      },
      "outputs": [
        {
          "output_type": "display_data",
          "data": {
            "text/plain": [
              "<Figure size 640x480 with 1 Axes>"
            ],
            "image/png": "[encoded data removed]"
          },
          "metadata": {}
        }
      ],
      "source": [
        "plt.plot(range(1, 12), lengths)\n",
        "plt.axhline(entropy_bound, c='r')\n",
        "plt.title(\"Average coding length for increasing block size\")\n",
        "plt.xlabel(\"Block size q\")\n",
        "plt.ylabel(\"Average coding length\")\n",
        "plt.show()"
      ]
    },
    {
      "cell_type": "code",
      "source": [],
      "metadata": {
        "id": "WP2qujJsQtl1"
      },
      "execution_count": 32,
      "outputs": []
    }
  ],
  "metadata": {
    "anaconda-cloud": {},
    "kernelspec": {
      "display_name": "Python 3",
      "language": "python",
      "name": "python3"
    },
    "language_info": {
      "codemirror_mode": {
        "name": "ipython",
        "version": 3
      },
      "file_extension": ".py",
      "mimetype": "text/x-python",
      "name": "python",
      "nbconvert_exporter": "python",
      "pygments_lexer": "ipython3",
      "version": "3.8.5"
    },
    "vscode": {
      "interpreter": {
        "hash": "8ba723ea251c3bb47b49f140ac541c116def08dcde9f0d62bfab2e65e5e12241"
      }
    },
    "colab": {
      "provenance": []
    }
  },
  "nbformat": 4,
  "nbformat_minor": 0
}